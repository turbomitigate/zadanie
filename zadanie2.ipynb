{
 "cells": [
  {
   "cell_type": "code",
   "execution_count": 1,
   "id": "4ad8a4ad-4146-4162-b833-d3709cc25549",
   "metadata": {},
   "outputs": [
    {
     "name": "stdout",
     "output_type": "stream",
     "text": [
      "Requirement already satisfied: pillow in d:\\anaconda\\lib\\site-packages (10.3.0)\n",
      "Requirement already satisfied: opencv-python in d:\\anaconda\\lib\\site-packages (4.10.0.84)\n",
      "Requirement already satisfied: numpy>=1.21.2 in d:\\anaconda\\lib\\site-packages (from opencv-python) (1.26.4)\n",
      "Note: you may need to restart the kernel to use updated packages.\n"
     ]
    }
   ],
   "source": [
    "pip install pillow opencv-python\n"
   ]
  },
  {
   "cell_type": "code",
   "execution_count": 15,
   "id": "be496353-6fd2-4b6a-aa66-3c19d925397e",
   "metadata": {},
   "outputs": [
    {
     "name": "stdout",
     "output_type": "stream",
     "text": [
      "Изображение сохранено как resized_image.png\n",
      "Изображение сохранено как grayscale_image.png\n",
      "Изображение сохранено как blurred_image.png\n"
     ]
    }
   ],
   "source": [
    "from PIL import Image, ImageFilter\n",
    "import os\n",
    "\n",
    "def resize_image(image_path, size, output_name='resized_image.png'):\n",
    "    image = Image.open(image_path)\n",
    "    resized_image = image.resize(size)\n",
    "    resized_image.save(output_name)\n",
    "    print(f\"Изображение сохранено как {output_name}\")\n",
    "    return resized_image\n",
    "\n",
    "def convert_to_grayscale(image, output_name='grayscale_image.png'):\n",
    "    grayscale_image = image.convert('L')\n",
    "    grayscale_image.save(output_name)\n",
    "    print(f\"Изображение сохранено как {output_name}\")\n",
    "    return grayscale_image\n",
    "\n",
    "def apply_gaussian_blur(image, radius=2, output_name='blurred_image.png'):\n",
    "    blurred_image = image.filter(ImageFilter.GaussianBlur(radius))\n",
    "    blurred_image.save(output_name)\n",
    "    print(f\"Изображение сохранено как {output_name}\")\n",
    "    return blurred_image\n",
    "\n",
    "image_path = 'image.png'\n",
    "\n",
    "\n",
    "resized_image = resize_image(image_path, (200, 200), 'resized_image.png')\n",
    "\n",
    "grayscale_image = convert_to_grayscale(resized_image, 'grayscale_image.png')\n",
    "\n",
    "blurred_image = apply_gaussian_blur(grayscale_image, output_name='blurred_image.png')\n"
   ]
  },
  {
   "cell_type": "code",
   "execution_count": null,
   "id": "1c68e611-7e2b-43a7-9287-5c631dbca0f8",
   "metadata": {},
   "outputs": [],
   "source": []
  }
 ],
 "metadata": {
  "kernelspec": {
   "display_name": "Python 3 (ipykernel)",
   "language": "python",
   "name": "python3"
  },
  "language_info": {
   "codemirror_mode": {
    "name": "ipython",
    "version": 3
   },
   "file_extension": ".py",
   "mimetype": "text/x-python",
   "name": "python",
   "nbconvert_exporter": "python",
   "pygments_lexer": "ipython3",
   "version": "3.12.4"
  }
 },
 "nbformat": 4,
 "nbformat_minor": 5
}
