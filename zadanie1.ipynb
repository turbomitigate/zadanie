{
 "cells": [
  {
   "cell_type": "code",
   "execution_count": 9,
   "id": "0c089b46-1d8d-4639-ac20-9cfd8ce72c4a",
   "metadata": {},
   "outputs": [
    {
     "name": "stdout",
     "output_type": "stream",
     "text": [
      "Requirement already satisfied: opencv-python in d:\\anaconda\\lib\\site-packages (4.10.0.84)\n",
      "Requirement already satisfied: numpy>=1.21.2 in d:\\anaconda\\lib\\site-packages (from opencv-python) (1.26.4)\n"
     ]
    }
   ],
   "source": [
    "!pip install opencv-python\n"
   ]
  },
  {
   "cell_type": "code",
   "execution_count": 1,
   "id": "521a10c0-6807-4e66-a97c-9dd33a298712",
   "metadata": {},
   "outputs": [
    {
     "name": "stdout",
     "output_type": "stream",
     "text": [
      "Изображение успешно обработано и сохранено как 'processed_image.png'.\n"
     ]
    }
   ],
   "source": [
    "from PIL import Image\n",
    "import numpy as np\n",
    "\n",
    "def process_image(filepath):\n",
    "    with Image.open(filepath) as img:  \n",
    "        if img.format == \"PNG\" and img.mode == \"RGBA\":\n",
    "            img_array = np.array(img)\n",
    "            alpha_channel = img_array[:, :, 3]\n",
    "            transparent_mask = alpha_channel == 0\n",
    "            img_array[transparent_mask] = [255, 255, 255, 255]\n",
    "            img = Image.fromarray(img_array, \"RGBA\").convert(\"RGB\")\n",
    "            img.save(\"C:/Users/User/proj5/processed_image.png\", format=\"PNG\")\n",
    "            print(\"Изображение успешно обработано и сохранено как 'processed_image.png'.\")\n",
    "        else:\n",
    "            print(\"Изображение не требует обработки прозрачности или имеет неподдерживаемый формат.\")\n",
    "\n",
    "process_image(\"C:/Users/User/proj5/image.png\")\n",
    "\n"
   ]
  },
  {
   "cell_type": "code",
   "execution_count": null,
   "id": "27cf3095-37fc-4484-ae3b-0aaaee7aabd4",
   "metadata": {},
   "outputs": [],
   "source": []
  }
 ],
 "metadata": {
  "kernelspec": {
   "display_name": "Python 3 (ipykernel)",
   "language": "python",
   "name": "python3"
  },
  "language_info": {
   "codemirror_mode": {
    "name": "ipython",
    "version": 3
   },
   "file_extension": ".py",
   "mimetype": "text/x-python",
   "name": "python",
   "nbconvert_exporter": "python",
   "pygments_lexer": "ipython3",
   "version": "3.12.4"
  }
 },
 "nbformat": 4,
 "nbformat_minor": 5
}
